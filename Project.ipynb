{
  "cells": [
    {
      "attachments": {},
      "cell_type": "markdown",
      "metadata": {
        "id": "mwJYcVNBcKpb"
      },
      "source": []
    },
    {
      "cell_type": "markdown",
      "metadata": {
        "id": "6uzeghNJgTgD"
      },
      "source": [
        "##1. Install the required code libraries"
      ]
    },
    {
      "cell_type": "code",
      "execution_count": 1,
      "metadata": {
        "colab": {
          "base_uri": "https://localhost:8080/"
        },
        "id": "YDZ2XzKIDLsA",
        "outputId": "58d00909-2067-41e6-fd98-a415b474e2fa"
      },
      "outputs": [
        {
          "name": "stdout",
          "output_type": "stream",
          "text": [
            "Looking in indexes: https://pypi.org/simple, https://us-python.pkg.dev/colab-wheels/public/simple/\n",
            "Collecting git+https://github.com/openai/whisper.git\n",
            "  Cloning https://github.com/openai/whisper.git to /tmp/pip-req-build-p1ryy9cj\n",
            "  Running command git clone --filter=blob:none --quiet https://github.com/openai/whisper.git /tmp/pip-req-build-p1ryy9cj\n",
            "  Resolved https://github.com/openai/whisper.git to commit c09a7ae299c4c34c5839a76380ae407e7d785914\n",
            "  Installing build dependencies ... \u001b[?25l\u001b[?25hdone\n",
            "  Getting requirements to build wheel ... \u001b[?25l\u001b[?25hdone\n",
            "  Preparing metadata (pyproject.toml) ... \u001b[?25l\u001b[?25hdone\n",
            "Requirement already satisfied: triton==2.0.0 in /usr/local/lib/python3.9/dist-packages (from openai-whisper==20230314) (2.0.0)\n",
            "Collecting tiktoken==0.3.1\n",
            "  Downloading tiktoken-0.3.1-cp39-cp39-manylinux_2_17_x86_64.manylinux2014_x86_64.whl (1.7 MB)\n",
            "\u001b[2K     \u001b[90m━━━━━━━━━━━━━━━━━━━━━━━━━━━━━━━━━━━━━━━━\u001b[0m \u001b[32m1.7/1.7 MB\u001b[0m \u001b[31m61.2 MB/s\u001b[0m eta \u001b[36m0:00:00\u001b[0m\n",
            "\u001b[?25hRequirement already satisfied: more-itertools in /usr/local/lib/python3.9/dist-packages (from openai-whisper==20230314) (9.1.0)\n",
            "Requirement already satisfied: numba in /usr/local/lib/python3.9/dist-packages (from openai-whisper==20230314) (0.56.4)\n",
            "Collecting ffmpeg-python==0.2.0\n",
            "  Downloading ffmpeg_python-0.2.0-py3-none-any.whl (25 kB)\n",
            "Requirement already satisfied: tqdm in /usr/local/lib/python3.9/dist-packages (from openai-whisper==20230314) (4.65.0)\n",
            "Requirement already satisfied: numpy in /usr/local/lib/python3.9/dist-packages (from openai-whisper==20230314) (1.22.4)\n",
            "Requirement already satisfied: torch in /usr/local/lib/python3.9/dist-packages (from openai-whisper==20230314) (2.0.0+cu118)\n",
            "Requirement already satisfied: future in /usr/local/lib/python3.9/dist-packages (from ffmpeg-python==0.2.0->openai-whisper==20230314) (0.18.3)\n",
            "Requirement already satisfied: requests>=2.26.0 in /usr/local/lib/python3.9/dist-packages (from tiktoken==0.3.1->openai-whisper==20230314) (2.27.1)\n",
            "Requirement already satisfied: regex>=2022.1.18 in /usr/local/lib/python3.9/dist-packages (from tiktoken==0.3.1->openai-whisper==20230314) (2022.10.31)\n",
            "Requirement already satisfied: filelock in /usr/local/lib/python3.9/dist-packages (from triton==2.0.0->openai-whisper==20230314) (3.11.0)\n",
            "Requirement already satisfied: cmake in /usr/local/lib/python3.9/dist-packages (from triton==2.0.0->openai-whisper==20230314) (3.25.2)\n",
            "Requirement already satisfied: lit in /usr/local/lib/python3.9/dist-packages (from triton==2.0.0->openai-whisper==20230314) (16.0.1)\n",
            "Requirement already satisfied: setuptools in /usr/local/lib/python3.9/dist-packages (from numba->openai-whisper==20230314) (67.6.1)\n",
            "Requirement already satisfied: llvmlite<0.40,>=0.39.0dev0 in /usr/local/lib/python3.9/dist-packages (from numba->openai-whisper==20230314) (0.39.1)\n",
            "Requirement already satisfied: typing-extensions in /usr/local/lib/python3.9/dist-packages (from torch->openai-whisper==20230314) (4.5.0)\n",
            "Requirement already satisfied: sympy in /usr/local/lib/python3.9/dist-packages (from torch->openai-whisper==20230314) (1.11.1)\n",
            "Requirement already satisfied: networkx in /usr/local/lib/python3.9/dist-packages (from torch->openai-whisper==20230314) (3.1)\n",
            "Requirement already satisfied: jinja2 in /usr/local/lib/python3.9/dist-packages (from torch->openai-whisper==20230314) (3.1.2)\n",
            "Requirement already satisfied: urllib3<1.27,>=1.21.1 in /usr/local/lib/python3.9/dist-packages (from requests>=2.26.0->tiktoken==0.3.1->openai-whisper==20230314) (1.26.15)\n",
            "Requirement already satisfied: certifi>=2017.4.17 in /usr/local/lib/python3.9/dist-packages (from requests>=2.26.0->tiktoken==0.3.1->openai-whisper==20230314) (2022.12.7)\n",
            "Requirement already satisfied: charset-normalizer~=2.0.0 in /usr/local/lib/python3.9/dist-packages (from requests>=2.26.0->tiktoken==0.3.1->openai-whisper==20230314) (2.0.12)\n",
            "Requirement already satisfied: idna<4,>=2.5 in /usr/local/lib/python3.9/dist-packages (from requests>=2.26.0->tiktoken==0.3.1->openai-whisper==20230314) (3.4)\n",
            "Requirement already satisfied: MarkupSafe>=2.0 in /usr/local/lib/python3.9/dist-packages (from jinja2->torch->openai-whisper==20230314) (2.1.2)\n",
            "Requirement already satisfied: mpmath>=0.19 in /usr/local/lib/python3.9/dist-packages (from sympy->torch->openai-whisper==20230314) (1.3.0)\n",
            "Building wheels for collected packages: openai-whisper\n",
            "  Building wheel for openai-whisper (pyproject.toml) ... \u001b[?25l\u001b[?25hdone\n",
            "  Created wheel for openai-whisper: filename=openai_whisper-20230314-py3-none-any.whl size=798038 sha256=f431f3f0c5590e9c288b3f5e336f594ecc2636eb7e70ad4fea5fa9e9658accf7\n",
            "  Stored in directory: /tmp/pip-ephem-wheel-cache-hkxcvs47/wheels/fe/03/29/e7919208d11b4ab32972cb448bb84a9a675d92cd52c9a48341\n",
            "Successfully built openai-whisper\n",
            "Installing collected packages: ffmpeg-python, tiktoken, openai-whisper\n",
            "Successfully installed ffmpeg-python-0.2.0 openai-whisper-20230314 tiktoken-0.3.1\n",
            "Get:1 https://cloud.r-project.org/bin/linux/ubuntu focal-cran40/ InRelease [3,622 B]\n",
            "Get:2 https://developer.download.nvidia.com/compute/cuda/repos/ubuntu2004/x86_64  InRelease [1,581 B]\n",
            "Get:3 https://developer.download.nvidia.com/compute/cuda/repos/ubuntu2004/x86_64  Packages [975 kB]\n",
            "Hit:4 http://ppa.launchpad.net/c2d4u.team/c2d4u4.0+/ubuntu focal InRelease\n",
            "Hit:5 http://ppa.launchpad.net/cran/libgit2/ubuntu focal InRelease\n",
            "Get:6 http://ppa.launchpad.net/deadsnakes/ppa/ubuntu focal InRelease [18.1 kB]\n",
            "Get:7 http://ppa.launchpad.net/graphics-drivers/ppa/ubuntu focal InRelease [24.3 kB]\n",
            "Hit:8 http://ppa.launchpad.net/ubuntugis/ppa/ubuntu focal InRelease\n",
            "Get:9 http://ppa.launchpad.net/deadsnakes/ppa/ubuntu focal/main amd64 Packages [29.5 kB]\n",
            "Get:10 http://ppa.launchpad.net/graphics-drivers/ppa/ubuntu focal/main amd64 Packages [46.7 kB]\n",
            "Get:11 http://security.ubuntu.com/ubuntu focal-security InRelease [114 kB]\n",
            "Hit:12 http://archive.ubuntu.com/ubuntu focal InRelease\n",
            "Get:13 http://archive.ubuntu.com/ubuntu focal-updates InRelease [114 kB]\n",
            "Get:14 http://security.ubuntu.com/ubuntu focal-security/restricted amd64 Packages [2,139 kB]\n",
            "Get:15 http://archive.ubuntu.com/ubuntu focal-backports InRelease [108 kB]\n",
            "Get:16 http://archive.ubuntu.com/ubuntu focal-updates/universe amd64 Packages [1,329 kB]\n",
            "Get:17 http://archive.ubuntu.com/ubuntu focal-updates/multiverse amd64 Packages [31.2 kB]\n",
            "Get:18 http://archive.ubuntu.com/ubuntu focal-updates/main amd64 Packages [3,111 kB]\n",
            "Get:19 http://security.ubuntu.com/ubuntu focal-security/multiverse amd64 Packages [28.5 kB]\n",
            "Get:20 http://security.ubuntu.com/ubuntu focal-security/main amd64 Packages [2,629 kB]\n",
            "Get:21 http://security.ubuntu.com/ubuntu focal-security/universe amd64 Packages [1,033 kB]\n",
            "Get:22 http://archive.ubuntu.com/ubuntu focal-updates/restricted amd64 Packages [2,277 kB]\n",
            "Fetched 14.0 MB in 24s (578 kB/s)\n",
            "Reading package lists... Done\n",
            "Building dependency tree       \n",
            "Reading state information... Done\n",
            "25 packages can be upgraded. Run 'apt list --upgradable' to see them.\n",
            "Reading package lists... Done\n",
            "Building dependency tree       \n",
            "Reading state information... Done\n",
            "ffmpeg is already the newest version (7:4.2.7-0ubuntu0.1).\n",
            "0 upgraded, 0 newly installed, 0 to remove and 25 not upgraded.\n",
            "Looking in indexes: https://pypi.org/simple, https://us-python.pkg.dev/colab-wheels/public/simple/\n",
            "Requirement already satisfied: librosa in /usr/local/lib/python3.9/dist-packages (0.10.0.post2)\n",
            "Requirement already satisfied: scikit-learn>=0.20.0 in /usr/local/lib/python3.9/dist-packages (from librosa) (1.2.2)\n",
            "Requirement already satisfied: msgpack>=1.0 in /usr/local/lib/python3.9/dist-packages (from librosa) (1.0.5)\n",
            "Requirement already satisfied: decorator>=4.3.0 in /usr/local/lib/python3.9/dist-packages (from librosa) (4.4.2)\n",
            "Requirement already satisfied: scipy>=1.2.0 in /usr/local/lib/python3.9/dist-packages (from librosa) (1.10.1)\n",
            "Requirement already satisfied: numba>=0.51.0 in /usr/local/lib/python3.9/dist-packages (from librosa) (0.56.4)\n",
            "Requirement already satisfied: soxr>=0.3.2 in /usr/local/lib/python3.9/dist-packages (from librosa) (0.3.5)\n",
            "Requirement already satisfied: audioread>=2.1.9 in /usr/local/lib/python3.9/dist-packages (from librosa) (3.0.0)\n",
            "Requirement already satisfied: typing-extensions>=4.1.1 in /usr/local/lib/python3.9/dist-packages (from librosa) (4.5.0)\n",
            "Requirement already satisfied: lazy-loader>=0.1 in /usr/local/lib/python3.9/dist-packages (from librosa) (0.2)\n",
            "Requirement already satisfied: pooch<1.7,>=1.0 in /usr/local/lib/python3.9/dist-packages (from librosa) (1.6.0)\n",
            "Requirement already satisfied: soundfile>=0.12.1 in /usr/local/lib/python3.9/dist-packages (from librosa) (0.12.1)\n",
            "Requirement already satisfied: numpy!=1.22.0,!=1.22.1,!=1.22.2,>=1.20.3 in /usr/local/lib/python3.9/dist-packages (from librosa) (1.22.4)\n",
            "Requirement already satisfied: joblib>=0.14 in /usr/local/lib/python3.9/dist-packages (from librosa) (1.2.0)\n",
            "Requirement already satisfied: setuptools in /usr/local/lib/python3.9/dist-packages (from numba>=0.51.0->librosa) (67.6.1)\n",
            "Requirement already satisfied: llvmlite<0.40,>=0.39.0dev0 in /usr/local/lib/python3.9/dist-packages (from numba>=0.51.0->librosa) (0.39.1)\n",
            "Requirement already satisfied: appdirs>=1.3.0 in /usr/local/lib/python3.9/dist-packages (from pooch<1.7,>=1.0->librosa) (1.4.4)\n",
            "Requirement already satisfied: requests>=2.19.0 in /usr/local/lib/python3.9/dist-packages (from pooch<1.7,>=1.0->librosa) (2.27.1)\n",
            "Requirement already satisfied: packaging>=20.0 in /usr/local/lib/python3.9/dist-packages (from pooch<1.7,>=1.0->librosa) (23.0)\n",
            "Requirement already satisfied: threadpoolctl>=2.0.0 in /usr/local/lib/python3.9/dist-packages (from scikit-learn>=0.20.0->librosa) (3.1.0)\n",
            "Requirement already satisfied: cffi>=1.0 in /usr/local/lib/python3.9/dist-packages (from soundfile>=0.12.1->librosa) (1.15.1)\n",
            "Requirement already satisfied: pycparser in /usr/local/lib/python3.9/dist-packages (from cffi>=1.0->soundfile>=0.12.1->librosa) (2.21)\n",
            "Requirement already satisfied: idna<4,>=2.5 in /usr/local/lib/python3.9/dist-packages (from requests>=2.19.0->pooch<1.7,>=1.0->librosa) (3.4)\n",
            "Requirement already satisfied: certifi>=2017.4.17 in /usr/local/lib/python3.9/dist-packages (from requests>=2.19.0->pooch<1.7,>=1.0->librosa) (2022.12.7)\n",
            "Requirement already satisfied: charset-normalizer~=2.0.0 in /usr/local/lib/python3.9/dist-packages (from requests>=2.19.0->pooch<1.7,>=1.0->librosa) (2.0.12)\n",
            "Requirement already satisfied: urllib3<1.27,>=1.21.1 in /usr/local/lib/python3.9/dist-packages (from requests>=2.19.0->pooch<1.7,>=1.0->librosa) (1.26.15)\n"
          ]
        },
        {
          "name": "stderr",
          "output_type": "stream",
          "text": [
            "100%|████████████████████████████████████████| 461M/461M [00:04<00:00, 118MiB/s]\n"
          ]
        }
      ],
      "source": [
        "!pip install git+https://github.com/openai/whisper.git \n",
        "!sudo apt update && sudo apt install ffmpeg\n",
        "!pip install librosa\n",
        "\n"
      ]
    },
    {
      "cell_type": "code",
      "execution_count": 2,
      "metadata": {
        "id": "H8lXhBNcvB2-"
      },
      "outputs": [],
      "source": [
        "import whisper\n",
        "import time\n",
        "import librosa\n",
        "import soundfile as sf\n",
        "import re\n",
        "import os\n",
        "\n",
        "# model = whisper.load_model(\"tiny.en\")\n",
        "# model = whisper.load_model(\"base.en\")   \n",
        "model = whisper.load_model(\"small.en\") # load the small model\n",
        "# model = whisper.load_model(\"medium.en\")\n",
        "# model = whisper.load_model(\"large\")"
      ]
    },
    {
      "cell_type": "code",
      "execution_count": 19,
      "metadata": {
        "colab": {
          "base_uri": "https://localhost:8080/"
        },
        "id": "iC-r9g90t0Dt",
        "outputId": "3bced09a-a5d2-4213-d855-68e196338b04"
      },
      "outputs": [
        {
          "name": "stdout",
          "output_type": "stream",
          "text": [
            "Looking in indexes: https://pypi.org/simple, https://us-python.pkg.dev/colab-wheels/public/simple/\n",
            "Requirement already satisfied: gensim in /usr/local/lib/python3.9/dist-packages (4.3.1)\n",
            "Requirement already satisfied: smart-open>=1.8.1 in /usr/local/lib/python3.9/dist-packages (from gensim) (6.3.0)\n",
            "Requirement already satisfied: numpy>=1.18.5 in /usr/local/lib/python3.9/dist-packages (from gensim) (1.22.4)\n",
            "Requirement already satisfied: scipy>=1.7.0 in /usr/local/lib/python3.9/dist-packages (from gensim) (1.10.1)\n"
          ]
        }
      ],
      "source": [
        "pip install gensim"
      ]
    },
    {
      "cell_type": "markdown",
      "metadata": {
        "id": "4rhtpcTkgKrG"
      },
      "source": [
        "##2. Allow access to your Google Drive and add new folders"
      ]
    },
    {
      "cell_type": "code",
      "execution_count": 3,
      "metadata": {
        "colab": {
          "base_uri": "https://localhost:8080/"
        },
        "id": "8YeXdboeC8eX",
        "outputId": "4e212dd0-f9cf-4c52-bad2-2d85e39b3e28"
      },
      "outputs": [
        {
          "name": "stdout",
          "output_type": "stream",
          "text": [
            "Mounted at /content/drive\n"
          ]
        }
      ],
      "source": [
        "\n",
        "from google.colab import drive\n",
        "drive.mount(\"/content/drive\", force_remount=True)\n",
        "\n",
        "\n",
        "folders =  [\"WhisperAudio/\", \"WhisperAudio/ProcessedAudio/\", \"WhisperAudio/TextFiles/\"]\n",
        "for folder in folders:\n",
        "  path = \"/content/drive/MyDrive/\" + folder\n",
        "  if not os.path.exists(path): \n",
        "    os.mkdir(path)"
      ]
    },
    {
      "cell_type": "markdown",
      "metadata": {
        "id": "Qg3uGr5If5oM"
      },
      "source": [
        "##3. Upload any audio files you want transcribed in the \"WhisperAudio\" folder in your Google Drive."
      ]
    },
    {
      "cell_type": "markdown",
      "metadata": {
        "id": "tXoptztJ56eH"
      },
      "source": [
        "##4. Let the application search for new files and transcribe the audio files and save them to your Google Drive"
      ]
    },
    {
      "cell_type": "code",
      "execution_count": 15,
      "metadata": {
        "colab": {
          "base_uri": "https://localhost:8080/"
        },
        "id": "kBmTS6IuPh3M",
        "outputId": "505b3c27-bd4b-45dc-f9a9-99a3bdee7451"
      },
      "outputs": [
        {
          "name": "stdout",
          "output_type": "stream",
          "text": [
            "Mounted at /content/drive\n",
            "/content/drive/MyDrive/WhisperAudio/SlL3KVEYak0.m4a\n",
            "Processing SlL3KVEYak0.m4a...\n"
          ]
        },
        {
          "name": "stderr",
          "output_type": "stream",
          "text": [
            "<ipython-input-15-2c992764149f>:24: UserWarning: PySoundFile failed. Trying audioread instead.\n",
            "  audio, sr = librosa.load(file, sr=16000, mono=True)\n",
            "/usr/local/lib/python3.9/dist-packages/librosa/core/audio.py:184: FutureWarning: librosa.core.audio.__audioread_load\n",
            "\tDeprecated as of librosa version 0.10.0.\n",
            "\tIt will be removed in librosa version 1.0.\n",
            "  y, sr_native = __audioread_load(path, offset, duration, dtype)\n"
          ]
        },
        {
          "name": "stdout",
          "output_type": "stream",
          "text": [
            "1 words processed\n",
            "Transcription of SlL3KVEYak0.m4a:\n",
            "\n",
            "Are you trying to learn the language, but you run out of words to say? You can't speak with confidence, and you just don't have the opportunity to practice? All language learners dream of speaking the language, and they all run into these problems when learning alone. But what if you could learn a practical conversation in one lesson, where teachers slow down and explain every word in grammar rule, and start speaking in minutes? Imagine how much you'd speak after five lessons, 10 lessons, 20 lessons. Well, that's exactly how you learn with our step-by-step learning system. How does it work? If you get up to 35% off with the Ready, Set, Speak sale going on now, you unlock bite-sized conversation lessons by real teachers. Each is just minutes long, so you can learn fast. Just press play on a lesson, learn a new conversation, and our teachers get you speaking in minutes. You get these conversations slowed down, translated, and broken down line by line, so that you understand everything. You can immerse yourself with our conversation tracks. You can practice speaking and compare your pronunciation with natives. You can learn anywhere, anytime, at home, on the train, with our app. You get study tools that help you memorize words and conversations fast. And if you want personalized learning, you can even get your own teacher. So if you want to finally learn and speak the language, get up to 35% off our learning system with the Ready, Set, Speak sale. Click the link in the description right now. \n",
            "\n",
            "\n",
            "Saved transcription as /content/drive/MyDrive/WhisperAudio//TextFiles/SlL3KVEYak0.txt\n",
            "Moved /content/drive/MyDrive/WhisperAudio/SlL3KVEYak0.m4a to /content/drive/MyDrive/WhisperAudio/ProcessedAudio/\n"
          ]
        }
      ],
      "source": [
        "from google.colab import drive\n",
        "drive.mount(\"/content/drive\", force_remount=True) \n",
        "\n",
        "\n",
        "audio_folder = \"/content/drive/MyDrive/WhisperAudio/\"\n",
        "\n",
        "\n",
        "import os\n",
        "audio_files = []\n",
        "audio_names = []\n",
        "for file in os.listdir(audio_folder):\n",
        "  if file.endswith(\".m4a\") or file.endswith(\".mp3\"):\n",
        "    audio_files.append(audio_folder + file)\n",
        "    audio_names.append(file)\n",
        "\n",
        "for f in audio_files:    \n",
        "  print(f)\n",
        "\n",
        "if len(audio_files) == 0:\n",
        "  print(\"You have no files.\")\n",
        "\n",
        "for i, file in enumerate(audio_files): \n",
        "  print(f\"Processing {audio_names[i]}...\")\n",
        "  audio, sr = librosa.load(file, sr=16000, mono=True)\n",
        "  pauses = librosa.effects.split(audio, top_db=30, frame_length=2048, hop_length=128)\n",
        "  transcription = \"\"\n",
        "  for start, end in pauses: \n",
        "    segment = audio[start:end]\n",
        "    temp_file = \"temp.wav\"\n",
        "    sf.write(temp_file, segment, sr, subtype='PCM_16')\n",
        "    if os.path.getsize(temp_file) > 10000:\n",
        "\n",
        "      result = model.transcribe(temp_file)\n",
        "      text = result[\"text\"]\n",
        "      print(len(transcription.split(\" \")), \"words processed\")\n",
        "      transcription += text.strip() + \" \"\n",
        "      os.remove(temp_file)\n",
        "  print(f\"Transcription of {audio_names[i]}:\\n\")\n",
        "  print(transcription)\n",
        "  print(\"\\n\")\n",
        " \n",
        "  transcription = re.sub(r\"\\s\\s+\", \"\\n\\n\", transcription) \n",
        "  text_file = audio_folder + \"/TextFiles/\" + audio_names[i][:-4] + \".txt\" \n",
        "  with open(text_file, \"w\") as f: \n",
        "    f.write(transcription)\n",
        "  print(f\"Saved transcription as {text_file}\")\n",
        "\n",
        "import shutil\n",
        "processed_folder = \"/content/drive/MyDrive/WhisperAudio/ProcessedAudio/\"\n",
        "if not os.path.exists(processed_folder):\n",
        "  os.mkdir(processed_folder)\n",
        "for file in audio_files: \n",
        "  shutil.move(file, processed_folder + os.path.basename(file))\n",
        "  print(f\"Moved {file} to {processed_folder}\")"
      ]
    },
    {
      "cell_type": "code",
      "execution_count": 25,
      "metadata": {
        "colab": {
          "base_uri": "https://localhost:8080/",
          "height": 489
        },
        "id": "aq1U98D9r9_k",
        "outputId": "55c80381-963f-4692-c799-2c9bef34f979"
      },
      "outputs": [
        {
          "name": "stdout",
          "output_type": "stream",
          "text": [
            "Looking in indexes: https://pypi.org/simple, https://us-python.pkg.dev/colab-wheels/public/simple/\n",
            "Collecting gensim==3.8.3\n",
            "  Downloading gensim-3.8.3.tar.gz (23.4 MB)\n",
            "\u001b[2K     \u001b[90m━━━━━━━━━━━━━━━━━━━━━━━━━━━━━━━━━━━━━━━━\u001b[0m \u001b[32m23.4/23.4 MB\u001b[0m \u001b[31m29.8 MB/s\u001b[0m eta \u001b[36m0:00:00\u001b[0m\n",
            "\u001b[?25h  Preparing metadata (setup.py) ... \u001b[?25l\u001b[?25hdone\n",
            "Requirement already satisfied: numpy>=1.11.3 in /usr/local/lib/python3.9/dist-packages (from gensim==3.8.3) (1.22.4)\n",
            "Requirement already satisfied: scipy>=0.18.1 in /usr/local/lib/python3.9/dist-packages (from gensim==3.8.3) (1.10.1)\n",
            "Requirement already satisfied: six>=1.5.0 in /usr/local/lib/python3.9/dist-packages (from gensim==3.8.3) (1.16.0)\n",
            "Requirement already satisfied: smart_open>=1.8.1 in /usr/local/lib/python3.9/dist-packages (from gensim==3.8.3) (6.3.0)\n",
            "Building wheels for collected packages: gensim\n",
            "  Building wheel for gensim (setup.py) ... \u001b[?25l\u001b[?25hdone\n",
            "  Created wheel for gensim: filename=gensim-3.8.3-cp39-cp39-linux_x86_64.whl size=26528086 sha256=af7f42249c8edcb5c5b6b088ab83f3515fb3ac185a30dc84a8bd7bded2eff3b9\n",
            "  Stored in directory: /root/.cache/pip/wheels/ca/5d/af/618594ec2f28608c1d6ee7d2b7e95a3e9b06551e3b80a491d6\n",
            "Successfully built gensim\n",
            "Installing collected packages: gensim\n",
            "  Attempting uninstall: gensim\n",
            "    Found existing installation: gensim 4.3.1\n",
            "    Uninstalling gensim-4.3.1:\n",
            "      Successfully uninstalled gensim-4.3.1\n",
            "Successfully installed gensim-3.8.3\n"
          ]
        },
        {
          "data": {
            "application/vnd.colab-display-data+json": {
              "pip_warning": {
                "packages": [
                  "gensim"
                ]
              }
            }
          },
          "metadata": {},
          "output_type": "display_data"
        }
      ],
      "source": [
        "!pip install gensim==3.8.3\n"
      ]
    },
    {
      "cell_type": "code",
      "execution_count": 13,
      "metadata": {
        "colab": {
          "base_uri": "https://localhost:8080/"
        },
        "id": "0lGC-w0frySF",
        "outputId": "3f68456c-830b-4cfe-c29a-2b5eae2b680f"
      },
      "outputs": [
        {
          "name": "stdout",
          "output_type": "stream",
          "text": [
            "هل تحاول أن تتعلم اللغة، لكنّك نفدت الكلمات لتقولها؟ لا يمكنك التحدث بثقة، وأنت فقط ليس لديك الفرصة لممارسة؟ جميع المتعلمين اللغويين يحلمون بالحديث عن اللغة وكلهم يصادفون هذه المشاكل عندما يتعلمون وحدهم لكن ماذا لو تعلمت محادثة عملية في درس واحد حيث يبطئ المعلمون ويشرحون كل كلمة في قاعدة \"غراممار\" ويبدأون بالتحدث في دقائق؟ تخيل كم ستتكلم بعد خمسة دروس، 10 دروس، 20 درساً حسناً، هذه هي الطريقة التي تتعلم بها نظامنا التعليمي المتدرج كيف يعمل؟ إذا حصلت على ما يصل إلى 35٪ قبالة مع استعداد، مجموعة، والحديث عن بيع يجري الآن، كنت فتح باب دروس في المحادثة ذات الحجم العض من قبل معلمين حقيقيين. كل واحد فقط دقائق طويلة، حتى تتمكن من التعلم بسرعة. فقط اضغطي على الدرس وتعلمي محادثة جديدة و معلمينا يجعلونك تتكلمين في دقائق تَحْصلُ على هذه المحادثاتِ تَباطأَ، تَترجّمَ، وتَحطّمَ خطّاً، لذا تَفْهمُ كُلّ شيءَ. يُمكنك أن تُغرس نفسك في مسارات المحادثة يمكنك التدرب على التحدث ومقارنة نطقك مع السكان الأصليين يمكنك التعلم في أي مكان، في أي وقت، في المنزل، على القطار، مع تطبيقنا. تحصل على أدوات دراسية تساعدك على حفظ الكلمات والمحادثات بسرعة وإذا كنت تريد التعلم الشخصي، يمكنك حتى الحصول على معلمك الخاص. إذا أردت أخيراً أن تتعلم وتتحدث عن اللغة فابتعد عن نظامنا التعليمي بنسبة 35 في المائة اضغطي الرابط في الوصف الآن\n"
          ]
        }
      ],
      "source": [
        "import argostranslate.package\n",
        "import argostranslate.translate\n",
        "\n",
        "from_code = \"en\"\n",
        "to_code = \"ar\"\n",
        "\n",
        "# Download and install Argos Translate package\n",
        "argostranslate.package.update_package_index()\n",
        "available_packages = argostranslate.package.get_available_packages()\n",
        "package_to_install = next(\n",
        "    filter(\n",
        "        lambda x: x.from_code == from_code and x.to_code == to_code, available_packages\n",
        "    )\n",
        ")\n",
        "argostranslate.package.install_from_path(package_to_install.download())\n",
        "\n",
        "# Translate\n",
        "translatedText = argostranslate.translate.translate(transcription, from_code, to_code)\n",
        "print(translatedText)\n",
        "# '¡Hola Mundo!'"
      ]
    },
    {
      "cell_type": "code",
      "execution_count": 14,
      "metadata": {
        "colab": {
          "base_uri": "https://localhost:8080/"
        },
        "id": "uJx6tXOPt4Oq",
        "outputId": "91c1702d-7b49-4478-d58c-488923dde597"
      },
      "outputs": [
        {
          "name": "stdout",
          "output_type": "stream",
          "text": [
            "Are you trying to learn the language, but you run out of words to say?\n",
            "All language learners dream of speaking the language, and they all run into these problems when learning alone.\n",
            "But what if you could learn a practical conversation in one lesson, where teachers slow down and explain every word in grammar rule, and start speaking in minutes?\n",
            "If you get up to 35% off with the Ready, Set, Speak sale going on now, you unlock bite-sized conversation lessons by real teachers.\n",
            "Each is just minutes long, so you can learn fast.\n",
            "Just press play on a lesson, learn a new conversation, and our teachers get you speaking in minutes.\n",
            "You get study tools that help you memorize words and conversations fast.\n",
            "And if you want personalized learning, you can even get your own teacher.\n",
            "So if you want to finally learn and speak the language, get up to 35% off our learning system with the Ready, Set, Speak sale.\n"
          ]
        }
      ],
      "source": [
        "import gensim\n",
        "from gensim.summarization import summarize\n",
        "\n",
        "# text to be summarized\n",
        "text = transcription\n",
        "\n",
        "# summarize the text\n",
        "summary = summarize(text, ratio=0.5)\n",
        "\n",
        "# print the summary\n",
        "print(summary)\n"
      ]
    }
  ],
  "metadata": {
    "accelerator": "GPU",
    "colab": {
      "provenance": []
    },
    "gpuClass": "standard",
    "kernelspec": {
      "display_name": "Python 3",
      "name": "python3"
    },
    "language_info": {
      "name": "python"
    }
  },
  "nbformat": 4,
  "nbformat_minor": 0
}
